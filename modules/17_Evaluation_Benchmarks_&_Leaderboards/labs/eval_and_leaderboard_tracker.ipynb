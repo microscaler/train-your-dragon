{
 "cells": [
  {
   "cell_type": "markdown",
   "id": "ba6bb532",
   "metadata": {},
   "source": [
    "# 📊 Eval & Leaderboard Tracker – Module 15\n",
    "Use this notebook to score completions, log results, and update your leaderboard."
   ]
  },
  {
   "cell_type": "markdown",
   "id": "216747a8",
   "metadata": {},
   "source": [
    "## ✅ Step 1: Load Prompt + Completions"
   ]
  },
  {
   "cell_type": "code",
   "execution_count": null,
   "id": "94b1e3b6",
   "metadata": {},
   "outputs": [],
   "source": [
    "prompt = \"def add(x, y):\"\n",
    "completions = [\n",
    "    \"    return x + y\",\n",
    "    \"    return x + y + 1\",\n",
    "    \"    return x + y if x > 0 else 0\"\n",
    "]"
   ]
  },
  {
   "cell_type": "markdown",
   "id": "9a946b44",
   "metadata": {},
   "source": [
    "## 🧠 Step 2: Score Each Completion"
   ]
  },
  {
   "cell_type": "code",
   "execution_count": null,
   "id": "f14c151f",
   "metadata": {},
   "outputs": [],
   "source": [
    "from difflib import SequenceMatcher\n",
    "import ast\n",
    "\n",
    "def exact_match(c): return c.strip() == \"return x + y\"\n",
    "def edit_dist(c): return SequenceMatcher(None, c.strip(), \"return x + y\").ratio()\n",
    "def ast_valid(c): \n",
    "    try:\n",
    "        ast.parse(\"def add(x, y):\\n\" + c)\n",
    "        return True\n",
    "    except:\n",
    "        return False\n",
    "\n",
    "scored = []\n",
    "for i, c in enumerate(completions):\n",
    "    scored.append({\n",
    "        \"index\": i,\n",
    "        \"completion\": c.strip(),\n",
    "        \"exact\": exact_match(c),\n",
    "        \"edit_ratio\": round(edit_dist(c), 3),\n",
    "        \"ast_ok\": ast_valid(c)\n",
    "    })\n",
    "\n",
    "import pandas as pd\n",
    "df = pd.DataFrame(scored)\n",
    "df"
   ]
  },
  {
   "cell_type": "markdown",
   "id": "32e1faa1",
   "metadata": {},
   "source": [
    "## 📝 Step 3: Append to Leaderboard"
   ]
  },
  {
   "cell_type": "code",
   "execution_count": null,
   "id": "b3b1b0a4",
   "metadata": {},
   "outputs": [],
   "source": [
    "from datetime import datetime\n",
    "\n",
    "entry = {\n",
    "    \"model\": \"test-checkpoint\",\n",
    "    \"prompt\": prompt,\n",
    "    \"exact_matches\": int(df[\"exact\"].sum()),\n",
    "    \"avg_edit_score\": round(df[\"edit_ratio\"].mean(), 3),\n",
    "    \"all_ast_valid\": df[\"ast_ok\"].all(),\n",
    "    \"datetime\": datetime.now().isoformat()\n",
    "}\n",
    "\n",
    "import csv\n",
    "\n",
    "lb_path = Path(\"data/leaderboard.csv\")\n",
    "lb_path.parent.mkdir(parents=True, exist_ok=True)\n",
    "\n",
    "if not lb_path.exists():\n",
    "    with lb_path.open(\"w\", newline=\"\") as f:\n",
    "        w = csv.DictWriter(f, fieldnames=list(entry.keys()))\n",
    "        w.writeheader()\n",
    "        w.writerow(entry)\n",
    "else:\n",
    "    with lb_path.open(\"a\", newline=\"\") as f:\n",
    "        w = csv.DictWriter(f, fieldnames=list(entry.keys()))\n",
    "        w.writerow(entry)\n",
    "\n",
    "print(\"✅ Leaderboard entry added.\")"
   ]
  }
 ],
 "metadata": {},
 "nbformat": 4,
 "nbformat_minor": 5
}
