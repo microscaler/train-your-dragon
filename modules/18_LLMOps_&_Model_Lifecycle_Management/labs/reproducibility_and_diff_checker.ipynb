{
 "cells": [
  {
   "cell_type": "markdown",
   "id": "280ac634",
   "metadata": {},
   "source": [
    "# 🔁 Reproducibility & Eval Diff Notebook – Module 16\n",
    "Compare model versions, evaluate consistency, and log version-aware metadata."
   ]
  },
  {
   "cell_type": "markdown",
   "id": "ff06e4bc",
   "metadata": {},
   "source": [
    "## ✅ Step 1: Load Two Eval Files"
   ]
  },
  {
   "cell_type": "code",
   "execution_count": null,
   "id": "cc2ead88",
   "metadata": {},
   "outputs": [],
   "source": [
    "import json\n",
    "from pathlib import Path\n",
    "\n",
    "with open(\"models/model_v1.0/eval.json\") as f:\n",
    "    eval_v1 = json.load(f)\n",
    "\n",
    "with open(\"models/model_v1.1/eval.json\") as f:\n",
    "    eval_v2 = json.load(f)\n",
    "\n",
    "print(\"✅ Eval files loaded.\")"
   ]
  },
  {
   "cell_type": "markdown",
   "id": "0c1ba5e6",
   "metadata": {},
   "source": [
    "## 🧪 Step 2: Compare Metric Deltas"
   ]
  },
  {
   "cell_type": "code",
   "execution_count": null,
   "id": "f171f499",
   "metadata": {},
   "outputs": [],
   "source": [
    "from pprint import pprint\n",
    "\n",
    "delta = {}\n",
    "for key in eval_v1:\n",
    "    if key in eval_v2:\n",
    "        diff = round(eval_v2[key] - eval_v1[key], 4)\n",
    "        delta[key] = {\"v1\": eval_v1[key], \"v2\": eval_v2[key], \"delta\": diff}\n",
    "\n",
    "pprint(delta)"
   ]
  },
  {
   "cell_type": "markdown",
   "id": "03ae0ee0",
   "metadata": {},
   "source": [
    "## 🧾 Step 3: Verify Tolerance Check"
   ]
  },
  {
   "cell_type": "code",
   "execution_count": null,
   "id": "ff529353",
   "metadata": {},
   "outputs": [],
   "source": [
    "PASS_THRESHOLD = 0.01  # allow up to 1% regression\n",
    "\n",
    "failures = [k for k, v in delta.items() if v['delta'] < -PASS_THRESHOLD]\n",
    "if failures:\n",
    "    print(\"❌ Regression detected in:\", failures)\n",
    "else:\n",
    "    print(\"✅ All metrics within tolerance.\")"
   ]
  },
  {
   "cell_type": "markdown",
   "id": "c6545ce2",
   "metadata": {},
   "source": [
    "## 📘 Step 4: Log Metadata"
   ]
  },
  {
   "cell_type": "code",
   "execution_count": null,
   "id": "2f1f08f8",
   "metadata": {},
   "outputs": [],
   "source": [
    "from datetime import datetime\n",
    "import platform\n",
    "\n",
    "model_log = {\n",
    "    \"version\": \"v1.1\",\n",
    "    \"date\": datetime.now().isoformat(),\n",
    "    \"git_commit\": \"abc1234\",  # Replace with real SHA\n",
    "    \"tokenizer\": \"custom-bpe-v1\",\n",
    "    \"base\": \"model_v1.0\",\n",
    "    \"hardware\": platform.platform(),\n",
    "    \"metrics\": eval_v2\n",
    "}\n",
    "\n",
    "with open(\"models/model_v1.1/metadata.json\", \"w\") as f:\n",
    "    json.dump(model_log, f, indent=2)\n",
    "\n",
    "print(\"✅ Metadata logged to model_v1.1/metadata.json\")"
   ]
  }
 ],
 "metadata": {},
 "nbformat": 4,
 "nbformat_minor": 5
}
