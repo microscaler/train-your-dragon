{
 "cells": [
  {
   "cell_type": "markdown",
   "id": "08db5d7f",
   "metadata": {},
   "source": [
    "# ⚙️ Training Simulation Lab – Module 12\n",
    "Simulate multi-GPU setup, monitor memory, log checkpoints, and practice resuming from failure."
   ]
  },
  {
   "cell_type": "markdown",
   "id": "5dd0cedc",
   "metadata": {},
   "source": [
    "## 🔧 Step 1: Create a Dummy Dataset and Model"
   ]
  },
  {
   "cell_type": "code",
   "execution_count": null,
   "id": "c7660332",
   "metadata": {},
   "outputs": [],
   "source": [
    "import torch\n",
    "from torch import nn\n",
    "from torch.utils.data import DataLoader, TensorDataset\n",
    "\n",
    "X = torch.randn(1000, 10)\n",
    "y = torch.randint(0, 2, (1000,))\n",
    "data = DataLoader(TensorDataset(X, y), batch_size=32)\n",
    "\n",
    "model = nn.Sequential(nn.Linear(10, 64), nn.ReLU(), nn.Linear(64, 2))\n",
    "optimizer = torch.optim.Adam(model.parameters(), lr=1e-3)\n",
    "loss_fn = nn.CrossEntropyLoss()"
   ]
  },
  {
   "cell_type": "markdown",
   "id": "d717a33f",
   "metadata": {},
   "source": [
    "## 🧪 Step 2: Simulate Training + Interrupt"
   ]
  },
  {
   "cell_type": "code",
   "execution_count": null,
   "id": "7451b5f2",
   "metadata": {},
   "outputs": [],
   "source": [
    "from pathlib import Path\n",
    "import json, time\n",
    "\n",
    "ckpt_file = Path(\"checkpoints/sim.ckpt\")\n",
    "start_epoch = 0\n",
    "\n",
    "if ckpt_file.exists():\n",
    "    state = torch.load(ckpt_file)\n",
    "    model.load_state_dict(state['model'])\n",
    "    optimizer.load_state_dict(state['optimizer'])\n",
    "    start_epoch = state['epoch'] + 1\n",
    "    print(f\"✅ Resuming from epoch {start_epoch}\")\n",
    "\n",
    "for epoch in range(start_epoch, 5):\n",
    "    running_loss = 0\n",
    "    for xb, yb in data:\n",
    "        optimizer.zero_grad()\n",
    "        pred = model(xb)\n",
    "        loss = loss_fn(pred, yb)\n",
    "        loss.backward()\n",
    "        optimizer.step()\n",
    "        running_loss += loss.item()\n",
    "\n",
    "    print(f\"Epoch {epoch}: loss={running_loss:.2f}\")\n",
    "    torch.save({\n",
    "        'model': model.state_dict(),\n",
    "        'optimizer': optimizer.state_dict(),\n",
    "        'epoch': epoch,\n",
    "        'timestamp': time.time()\n",
    "    }, ckpt_file)\n",
    "\n",
    "    if epoch == 2:\n",
    "        raise KeyboardInterrupt(\"💥 Simulated crash after epoch 2\")"
   ]
  },
  {
   "cell_type": "markdown",
   "id": "73a13a98",
   "metadata": {},
   "source": [
    "## 🧾 Step 3: Log Training Metadata"
   ]
  },
  {
   "cell_type": "code",
   "execution_count": null,
   "id": "64c17828",
   "metadata": {},
   "outputs": [],
   "source": [
    "with open(\"checkpoints/log.json\", \"w\") as f:\n",
    "    json.dump({\n",
    "        'model': 'dummy-multigpu',\n",
    "        'epochs_completed': epoch,\n",
    "        'final_loss': running_loss,\n",
    "        'resume_ready': ckpt_file.exists(),\n",
    "        'hostname': Path('/etc/hostname').read_text().strip()\n",
    "    }, f, indent=2)\n",
    "print(\"✅ Metadata saved\")"
   ]
  }
 ],
 "metadata": {},
 "nbformat": 4,
 "nbformat_minor": 5
}
