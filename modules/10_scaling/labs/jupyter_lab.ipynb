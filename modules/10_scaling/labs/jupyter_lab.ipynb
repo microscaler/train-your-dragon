{
 "cells": [
  {
   "cell_type": "markdown",
   "id": "b71fce1c",
   "metadata": {},
   "source": [
    "# 🧑‍🏫 Teaching & Scaling LLM Development – Module 10\n",
    "This notebook walks through exercises to document patterns, guide others, and create feedback loops around model usage."
   ]
  },
  {
   "cell_type": "markdown",
   "id": "085944b8",
   "metadata": {},
   "source": [
    "## ✅ Step 1: Define a Reusable Prompt Pattern"
   ]
  },
  {
   "cell_type": "code",
   "execution_count": null,
   "id": "09fd3c10",
   "metadata": {},
   "outputs": [],
   "source": [
    "prompt_template = \"\"\"\n",
    "You are a helpful assistant that replies in JSON.\n",
    "Task: {task_description}\n",
    "Context: {context_snippet}\n",
    "Respond using structured keys only.\n",
    "\"\"\"\n",
    "\n",
    "example = prompt_template.format(\n",
    "    task_description=\"Summarize a customer support ticket\",\n",
    "    context_snippet=\"User reports error when uploading PDFs\"\n",
    ")\n",
    "print(example)"
   ]
  },
  {
   "cell_type": "markdown",
   "id": "791e8488",
   "metadata": {},
   "source": [
    "## 📚 Step 2: Write a Prompt Playbook Entry"
   ]
  },
  {
   "cell_type": "code",
   "execution_count": null,
   "id": "8ac2a82b",
   "metadata": {},
   "outputs": [],
   "source": [
    "entry = {\n",
    "    \"title\": \"Structured Summary Prompt\",\n",
    "    \"use_case\": \"Ticket summarization\",\n",
    "    \"input_format\": \"{task_description}, {context_snippet}\",\n",
    "    \"output\": \"JSON with fields: summary, sentiment\",\n",
    "    \"owner\": \"ml-team@yourcompany.com\"\n",
    "}\n",
    "entry"
   ]
  },
  {
   "cell_type": "markdown",
   "id": "6423f9a2",
   "metadata": {},
   "source": [
    "## ✍️ Step 3: Create a Prompt Feedback Log"
   ]
  },
  {
   "cell_type": "code",
   "execution_count": null,
   "id": "de64dbdc",
   "metadata": {},
   "outputs": [],
   "source": [
    "feedback_log = []\n",
    "feedback_log.append({\n",
    "    \"prompt_id\": \"001\",\n",
    "    \"feedback\": \"Output was too verbose\",\n",
    "    \"fix_applied\": True,\n",
    "    \"notes\": \"Added length limit to system prompt\"\n",
    "})\n",
    "feedback_log"
   ]
  },
  {
   "cell_type": "markdown",
   "id": "56099791",
   "metadata": {},
   "source": [
    "## 🧾 Step 4: Generate a Prompt Report CSV"
   ]
  },
  {
   "cell_type": "code",
   "execution_count": null,
   "id": "3803b697",
   "metadata": {},
   "outputs": [],
   "source": [
    "import pandas as pd\n",
    "\n",
    "report = pd.DataFrame(feedback_log)\n",
    "report.to_csv(\"data/prompt_feedback_log.csv\", index=False)\n",
    "print(\"✅ Report saved to prompt_feedback_log.csv\")"
   ]
  }
 ],
 "metadata": {},
 "nbformat": 4,
 "nbformat_minor": 5
}
