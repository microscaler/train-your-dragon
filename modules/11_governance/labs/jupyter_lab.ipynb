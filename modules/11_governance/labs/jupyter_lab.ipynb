{
 "cells": [
  {
   "cell_type": "markdown",
   "id": "11fe6559",
   "metadata": {},
   "source": [
    "# 🛡️ Data Governance Lab: Redaction, License Check, and Provenance\n",
    "This notebook helps you apply the ethics, PII filtering, and metadata tracking from Module 10."
   ]
  },
  {
   "cell_type": "markdown",
   "id": "1396717c",
   "metadata": {},
   "source": [
    "## ✅ Step 1: Load a Dataset and Print a Sample"
   ]
  },
  {
   "cell_type": "code",
   "execution_count": null,
   "id": "8f2e8c47",
   "metadata": {},
   "outputs": [],
   "source": [
    "from pathlib import Path\n",
    "import json\n",
    "\n",
    "input_path = Path(\"data/internal_curated/sample.jsonl\")\n",
    "with input_path.open() as f:\n",
    "    lines = [json.loads(l) for l in f.readlines()]\n",
    "print(f\"Loaded {len(lines)} examples.\")\n",
    "lines[:2]"
   ]
  },
  {
   "cell_type": "markdown",
   "id": "f98b8818",
   "metadata": {},
   "source": [
    "## 🔍 Step 2: Detect PII and Secrets"
   ]
  },
  {
   "cell_type": "code",
   "execution_count": null,
   "id": "4a26323f",
   "metadata": {},
   "outputs": [],
   "source": [
    "import re\n",
    "violations = []\n",
    "clean = []\n",
    "\n",
    "EMAIL_RE = re.compile(r\"[\\w\\.-]+@[\\w\\.-]+\")\n",
    "KEYWORDS = [\"secret\", \"token\", \"password\"]\n",
    "\n",
    "for line in lines:\n",
    "    text = line.get(\"instruction\", \"\")\n",
    "    found_email = EMAIL_RE.search(text)\n",
    "    found_secret = any(kw in text.lower() for kw in KEYWORDS)\n",
    "    if found_email or found_secret:\n",
    "        violations.append({\"text\": text})\n",
    "    else:\n",
    "        clean.append(line)\n",
    "\n",
    "print(f\"Found {len(violations)} risky lines.\")"
   ]
  },
  {
   "cell_type": "markdown",
   "id": "0533bb08",
   "metadata": {},
   "source": [
    "## ✂️ Step 3: Save Cleaned and Flagged Outputs"
   ]
  },
  {
   "cell_type": "code",
   "execution_count": null,
   "id": "86495cce",
   "metadata": {},
   "outputs": [],
   "source": [
    "with open(\"data/internal_curated/clean.jsonl\", \"w\") as f:\n",
    "    for item in clean:\n",
    "        f.write(json.dumps(item) + \"\\n\")\n",
    "\n",
    "with open(\"data/internal_curated/violations.csv\", \"w\") as f:\n",
    "    f.write(\"text\\n\")\n",
    "    for item in violations:\n",
    "        f.write(f\"{item['text'].replace(chr(10), ' ')}\\n\")\n",
    "\n",
    "print(\"✅ Clean + violations saved.\")"
   ]
  },
  {
   "cell_type": "markdown",
   "id": "7bc628d3",
   "metadata": {},
   "source": [
    "## 🧾 Step 4: Generate Dataset Registry Entry"
   ]
  },
  {
   "cell_type": "code",
   "execution_count": null,
   "id": "fb180d76",
   "metadata": {},
   "outputs": [],
   "source": [
    "import hashlib\n",
    "\n",
    "sha256 = hashlib.sha256(input_path.read_bytes()).hexdigest()\n",
    "entry = {\n",
    "    \"name\": input_path.name,\n",
    "    \"sha256\": sha256,\n",
    "    \"license\": \"MIT\",\n",
    "    \"source\": \"internal/manual\",\n",
    "    \"notes\": \"Redacted for PII, cleaned 2025-06-12\"\n",
    "}\n",
    "\n",
    "with open(\"data/registry.jsonl\", \"a\") as f:\n",
    "    f.write(json.dumps(entry) + \"\\n\")\n",
    "print(\"✅ Registry entry appended.\")"
   ]
  }
 ],
 "metadata": {},
 "nbformat": 4,
 "nbformat_minor": 5
}
