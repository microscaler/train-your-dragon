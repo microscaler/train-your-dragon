{
 "cells": [
  {
   "cell_type": "markdown",
   "metadata": {},
   "source": [
    "# 🧪 Dataset Validation & Exploration\n",
    "Use this notebook to inspect your `.jsonl` dataset, verify field consistency, and preview examples before training."
   ],
   "id": "306853f30cd60758"
  },
  {
   "cell_type": "code",
   "metadata": {},
   "source": [
    "import json\n",
    "from pathlib import Path\n",
    "import random"
   ],
   "execution_count": null,
   "outputs": [],
   "id": "c4bb944564ae08cb"
  },
  {
   "cell_type": "code",
   "metadata": {},
   "source": [
    "# Load your dataset\n",
    "path = Path('data/custom_training.jsonl')\n",
    "with path.open() as f:\n",
    "    lines = f.readlines()\n",
    "dataset = [json.loads(line) for line in lines]\n",
    "print(f'Loaded {len(dataset)} examples.')"
   ],
   "execution_count": null,
   "outputs": [],
   "id": "94322370a63a8766"
  },
  {
   "cell_type": "code",
   "metadata": {},
   "source": [
    "# Check field consistency\n",
    "required_keys = {'instruction', 'output'}\n",
    "errors = [i for i, ex in enumerate(dataset) if not required_keys.issubset(ex)]\n",
    "print(f'Missing fields in {len(errors)} examples.')"
   ],
   "execution_count": null,
   "outputs": [],
   "id": "92c74f01dd2fdd2f"
  },
  {
   "cell_type": "code",
   "metadata": {},
   "source": [
    "# Preview a few random samples\n",
    "for _ in range(3):\n",
    "    sample = random.choice(dataset)\n",
    "    print(f'\n",
    "[1mInstruction:[0m {sample[\"instruction\"]}')\n",
    "    print(f'[1mOutput:[0m\n",
    "{sample[\"output\"][:500]}...')"
   ],
   "execution_count": null,
   "outputs": [],
   "id": "e1f47d42c33bc57c"
  }
 ],
 "metadata": {
  "kernelspec": {
   "display_name": "Python 3",
   "language": "python",
   "name": "python3"
  },
  "language_info": {
   "name": "python",
   "version": "3.10"
  }
 },
 "nbformat": 4,
 "nbformat_minor": 5
}
