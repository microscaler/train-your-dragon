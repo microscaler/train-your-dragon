{
 "cells": [
  {
   "cell_type": "markdown",
   "metadata": {},
   "source": [
    "# 📊 Checkpoint Comparator: v1.0 vs v1.1\n",
    "Use this notebook to evaluate and compare outputs between two LLM checkpoints using the same prompt set."
   ]
  },
  {
   "cell_type": "markdown",
   "metadata": {},
   "source": [
    "## 🗂 Load Test Prompts"
   ]
  },
  {
   "cell_type": "code",
   "metadata": {},
   "source": [
    "import json\n",
    "with open('data/eval_cases.jsonl') as f:\n",
    "    prompts = [json.loads(line)['instruction'] for line in f]\n",
    "print(f\"Loaded {len(prompts)} prompts.\")"
   ],
   "execution_count": null,
   "outputs": []
  },
  {
   "cell_type": "markdown",
   "metadata": {},
   "source": [
    "## 🤖 Load Both Models"
   ]
  },
  {
   "cell_type": "code",
   "metadata": {},
   "source": [
    "from transformers import pipeline\n",
    "\n",
    "model_v1 = pipeline(\"text-generation\", model=\"./checkpoints/model_v1.0\")\n",
    "model_v2 = pipeline(\"text-generation\", model=\"./checkpoints/model_v1.1\")"
   ],
   "execution_count": null,
   "outputs": []
  },
  {
   "cell_type": "markdown",
   "metadata": {},
   "source": [
    "## 🧪 Compare Outputs Side-by-Side"
   ]
  },
  {
   "cell_type": "code",
   "metadata": {},
   "source": [
    "from IPython.display import display, Markdown\n",
    "\n",
    "for prompt in prompts:\n",
    "    out1 = model_v1(prompt, max_new_tokens=100)[0]['generated_text']\n",
    "    out2 = model_v2(prompt, max_new_tokens=100)[0]['generated_text']\n",
    "\n",
    "    display(Markdown(f\"### Prompt:\\n{prompt}\"))\n",
    "    display(Markdown(f\"**v1.0 Output:**\\n```\n{out1}\n```\"))\n",
    "    display(Markdown(f\"**v1.1 Output:**\\n```\n{out2}\n```\"))"
   ],
   "execution_count": null,
   "outputs": []
  }
 ],
 "metadata": {
  "kernelspec": {
   "display_name": "Python 3",
   "language": "python",
   "name": "python3"
  },
  "language_info": {
   "name": "python",
   "version": "3.10"
  }
 },
 "nbformat": 4,
 "nbformat_minor": 5
}

