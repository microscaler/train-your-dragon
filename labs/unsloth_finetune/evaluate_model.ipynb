{
 "cells": [
  {
   "cell_type": "markdown",
   "metadata": {},
   "source": [
    "# 🧪 Notebook 2: Evaluate Your Model's Responses\n",
    "This notebook helps you test a trained model using sample prompts.\n",
    "You’ll measure correctness, hallucination risk, and clarity."
   ]
  },
  {
   "cell_type": "code",
   "execution_count": null,
   "metadata": {},
   "outputs": [],
   "source": [
    "# Load model checkpoint\n",
    "from transformers import pipeline\n",
    "pipe = pipeline(\"text-generation\", model=\"./checkpoints/demo\")"
   ]
  },
  {
   "cell_type": "code",
   "execution_count": null,
   "metadata": {},
   "outputs": [],
   "source": [
    "# Load sample eval prompts\n",
    "import json\n",
    "with open(\"eval_prompts.jsonl\") as f:\n",
    "    evals = [json.loads(line) for line in f]"
   ]
  },
  {
   "cell_type": "code",
   "execution_count": null,
   "metadata": {},
   "outputs": [],
   "source": [
    "# Run and collect results\n",
    "for item in evals:\n",
    "    output = pipe(item['instruction'], max_new_tokens=150)[0]['generated_text']\n",
    "    print(f\"Prompt: {item['instruction']}\\n\\nOutput: {output}\\n{'='*40}\")"
   ]
  }
 ],
 "metadata": {
  "kernelspec": {
   "display_name": "Python 3",
   "language": "python",
   "name": "python3"
  },
  "language_info": {
   "name": "python",
   "version": "3.10"
  }
 },
 "nbformat": 4,
 "nbformat_minor": 5
}

