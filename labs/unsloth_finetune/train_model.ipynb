{
 "cells": [
  {
   "cell_type": "markdown",
   "metadata": {},
   "source": [
    "# 🧠 Notebook 1: Train Your First Model with Unsloth\n",
    "This notebook walks you through fine-tuning a small LLM using Unsloth.\n",
    "We’ll cover:\n",
    "- Loading a base model\n",
    "- Preparing a small dataset\n",
    "- Training with PEFT/QLoRA"
   ]
  },
  {
   "cell_type": "code",
   "execution_count": null,
   "metadata": {},
   "outputs": [],
   "source": [
    "# Install dependencies (run once per kernel)\n",
    "!pip install transformers accelerate datasets unsloth"
   ]
  },
  {
   "cell_type": "code",
   "execution_count": null,
   "metadata": {},
   "outputs": [],
   "source": [
    "# Load your base model\n",
    "from unsloth import FastLanguageModel\n",
    "model, tokenizer = FastLanguageModel.from_pretrained(\n",
    "    model_name='unsloth/zephyr-1.3b-bnb-4bit',\n",
    "    max_seq_length=2048,\n",
    "    load_in_4bit=True\n",
    ")"
   ]
  },
  {
   "cell_type": "code",
   "execution_count": null,
   "metadata": {},
   "outputs": [],
   "source": [
    "# Format your dataset (example from local JSONL)\n",
    "from datasets import load_dataset\n",
    "raw = load_dataset(\"json\", data_files=\"coroutine_training_data.jsonl\")['train']\n",
    "raw = raw.map(lambda ex: {'prompt': ex['instruction'], 'completion': ex['output']})"
   ]
  },
  {
   "cell_type": "code",
   "execution_count": null,
   "metadata": {},
   "outputs": [],
   "source": [
    "# Set up training args\n",
    "from transformers import TrainingArguments\n",
    "args = TrainingArguments(\n",
    "    output_dir=\"./checkpoints/demo\",\n",
    "    per_device_train_batch_size=2,\n",
    "    num_train_epochs=1,\n",
    "    fp16=True\n",
    ")"
   ]
  },
  {
   "cell_type": "code",
   "execution_count": null,
   "metadata": {},
   "outputs": [],
   "source": [
    "# Begin fine-tuning\n",
    "FastLanguageModel.for_inference(model)\n",
    "model.train_model(dataset=raw, args=args)"
   ]
  }
 ],
 "metadata": {
  "kernelspec": {
   "display_name": "Python 3",
   "language": "python",
   "name": "python3"
  },
  "language_info": {
   "name": "python",
   "version": "3.10"
  }
 },
 "nbformat": 4,
 "nbformat_minor": 5
}

